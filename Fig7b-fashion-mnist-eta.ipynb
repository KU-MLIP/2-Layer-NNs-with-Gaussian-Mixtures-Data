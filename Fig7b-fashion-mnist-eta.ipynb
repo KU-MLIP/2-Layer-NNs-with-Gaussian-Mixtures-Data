{
 "cells": [
  {
   "cell_type": "code",
   "execution_count": 1,
   "id": "aad3411f",
   "metadata": {},
   "outputs": [
    {
     "name": "stdout",
     "output_type": "stream",
     "text": [
      "Fri Sep 20 18:36:22 2024       \n",
      "+---------------------------------------------------------------------------------------+\n",
      "| NVIDIA-SMI 535.129.03             Driver Version: 535.129.03   CUDA Version: 12.2     |\n",
      "|-----------------------------------------+----------------------+----------------------+\n",
      "| GPU  Name                 Persistence-M | Bus-Id        Disp.A | Volatile Uncorr. ECC |\n",
      "| Fan  Temp   Perf          Pwr:Usage/Cap |         Memory-Usage | GPU-Util  Compute M. |\n",
      "|                                         |                      |               MIG M. |\n",
      "|=========================================+======================+======================|\n",
      "|   0  Tesla V100-PCIE-32GB           On  | 00000000:3B:00.0 Off |                  Off |\n",
      "| N/A   27C    P0              25W / 250W |      0MiB / 32768MiB |      0%      Default |\n",
      "|                                         |                      |                  N/A |\n",
      "+-----------------------------------------+----------------------+----------------------+\n",
      "                                                                                         \n",
      "+---------------------------------------------------------------------------------------+\n",
      "| Processes:                                                                            |\n",
      "|  GPU   GI   CI        PID   Type   Process name                            GPU Memory |\n",
      "|        ID   ID                                                             Usage      |\n",
      "|=======================================================================================|\n",
      "|  No running processes found                                                           |\n",
      "+---------------------------------------------------------------------------------------+\n"
     ]
    }
   ],
   "source": [
    "! nvidia-smi"
   ]
  },
  {
   "cell_type": "code",
   "execution_count": 2,
   "id": "8b93926c",
   "metadata": {},
   "outputs": [],
   "source": [
    "from CGAN import CGAN"
   ]
  },
  {
   "cell_type": "code",
   "execution_count": 3,
   "id": "be27e4e6",
   "metadata": {},
   "outputs": [],
   "source": [
    "class ARGS:\n",
    "    gan_type = \"CGAN\"\n",
    "    dataset = \"fashion-mnist\"\n",
    "    split = \"\"\n",
    "    epoch = 50\n",
    "    batch_size = 64\n",
    "    input_size = 28\n",
    "    save_dir = \"models\"\n",
    "    result_dir = \"results\"\n",
    "    log_dir = \"logs\"\n",
    "    lrG = 0.0002\n",
    "    lrD = 0.0002\n",
    "    beta1 = 0.5\n",
    "    beta2 = 0.999\n",
    "    gpu_mode = True\n",
    "    benchmark_mode = True\n",
    "\n",
    "\n",
    "args = ARGS()"
   ]
  },
  {
   "cell_type": "code",
   "execution_count": 4,
   "id": "3a9f8864",
   "metadata": {},
   "outputs": [
    {
     "name": "stdout",
     "output_type": "stream",
     "text": [
      "---------- Networks architecture -------------\n",
      "generator(\n",
      "  (fc): Sequential(\n",
      "    (0): Linear(in_features=72, out_features=1024, bias=True)\n",
      "    (1): BatchNorm1d(1024, eps=1e-05, momentum=0.1, affine=True, track_running_stats=True)\n",
      "    (2): ReLU()\n",
      "    (3): Linear(in_features=1024, out_features=6272, bias=True)\n",
      "    (4): BatchNorm1d(6272, eps=1e-05, momentum=0.1, affine=True, track_running_stats=True)\n",
      "    (5): ReLU()\n",
      "  )\n",
      "  (deconv): Sequential(\n",
      "    (0): ConvTranspose2d(128, 64, kernel_size=(4, 4), stride=(2, 2), padding=(1, 1))\n",
      "    (1): BatchNorm2d(64, eps=1e-05, momentum=0.1, affine=True, track_running_stats=True)\n",
      "    (2): ReLU()\n",
      "    (3): ConvTranspose2d(64, 1, kernel_size=(4, 4), stride=(2, 2), padding=(1, 1))\n",
      "    (4): Tanh()\n",
      "  )\n",
      ")\n",
      "Total number of parameters: 6650433\n",
      "discriminator(\n",
      "  (conv): Sequential(\n",
      "    (0): Conv2d(11, 64, kernel_size=(4, 4), stride=(2, 2), padding=(1, 1))\n",
      "    (1): LeakyReLU(negative_slope=0.2)\n",
      "    (2): Conv2d(64, 128, kernel_size=(4, 4), stride=(2, 2), padding=(1, 1))\n",
      "    (3): BatchNorm2d(128, eps=1e-05, momentum=0.1, affine=True, track_running_stats=True)\n",
      "    (4): LeakyReLU(negative_slope=0.2)\n",
      "  )\n",
      "  (fc): Sequential(\n",
      "    (0): Linear(in_features=6272, out_features=1024, bias=True)\n",
      "    (1): BatchNorm1d(1024, eps=1e-05, momentum=0.1, affine=True, track_running_stats=True)\n",
      "    (2): LeakyReLU(negative_slope=0.2)\n",
      "    (3): Linear(in_features=1024, out_features=1, bias=True)\n",
      "    (4): Sigmoid()\n",
      "  )\n",
      ")\n",
      "Total number of parameters: 6569409\n",
      "-----------------------------------------------\n"
     ]
    }
   ],
   "source": [
    "CGAN = CGAN(args)"
   ]
  },
  {
   "cell_type": "code",
   "execution_count": 5,
   "id": "c6fa87bf",
   "metadata": {},
   "outputs": [],
   "source": [
    "CGAN.load()"
   ]
  },
  {
   "cell_type": "code",
   "execution_count": 6,
   "id": "b1349946",
   "metadata": {},
   "outputs": [
    {
     "data": {
      "text/plain": [
       "generator(\n",
       "  (fc): Sequential(\n",
       "    (0): Linear(in_features=72, out_features=1024, bias=True)\n",
       "    (1): BatchNorm1d(1024, eps=1e-05, momentum=0.1, affine=True, track_running_stats=True)\n",
       "    (2): ReLU()\n",
       "    (3): Linear(in_features=1024, out_features=6272, bias=True)\n",
       "    (4): BatchNorm1d(6272, eps=1e-05, momentum=0.1, affine=True, track_running_stats=True)\n",
       "    (5): ReLU()\n",
       "  )\n",
       "  (deconv): Sequential(\n",
       "    (0): ConvTranspose2d(128, 64, kernel_size=(4, 4), stride=(2, 2), padding=(1, 1))\n",
       "    (1): BatchNorm2d(64, eps=1e-05, momentum=0.1, affine=True, track_running_stats=True)\n",
       "    (2): ReLU()\n",
       "    (3): ConvTranspose2d(64, 1, kernel_size=(4, 4), stride=(2, 2), padding=(1, 1))\n",
       "    (4): Tanh()\n",
       "  )\n",
       ")"
      ]
     },
     "execution_count": 6,
     "metadata": {},
     "output_type": "execute_result"
    }
   ],
   "source": [
    "CGAN.G.eval()"
   ]
  },
  {
   "cell_type": "code",
   "execution_count": 7,
   "id": "d1527cb8",
   "metadata": {},
   "outputs": [],
   "source": [
    "import torch\n",
    "\n",
    "sample_y1 = torch.zeros(int(1e6), CGAN.class_num).cuda()"
   ]
  },
  {
   "cell_type": "code",
   "execution_count": 8,
   "id": "6e638c04",
   "metadata": {},
   "outputs": [
    {
     "data": {
      "application/vnd.jupyter.widget-view+json": {
       "model_id": "2421036390ed4ddfa3dbcc642eb15116",
       "version_major": 2,
       "version_minor": 0
      },
      "text/plain": [
       "  0%|          | 0/10 [00:00<?, ?it/s]"
      ]
     },
     "metadata": {},
     "output_type": "display_data"
    }
   ],
   "source": [
    "import torch\n",
    "import numpy as np\n",
    "from tqdm.auto import tqdm\n",
    "\n",
    "samples1 = np.zeros((int(1e6), 28*28))\n",
    "samples2 = np.zeros((int(1e6), 28*28))\n",
    "for i in tqdm(range(10)):\n",
    "    sample_y1 = torch.zeros(int(1e5), CGAN.class_num).cuda()\n",
    "    sample_y1[:, 0] = 1\n",
    "    sample_z1 = torch.rand((int(1e5), CGAN.z_dim)).cuda()\n",
    "    sample_y2 = torch.zeros(int(1e5), CGAN.class_num).cuda()\n",
    "    sample_y2[:, 1] = 1\n",
    "    sample_z2 = torch.rand((int(1e5), CGAN.z_dim)).cuda()\n",
    "    samples1_ = CGAN.G(sample_z1, sample_y1).cpu().data.numpy().transpose(0, 2, 3, 1).reshape(-1, 28*28)\n",
    "    samples1_ = (samples1_ + 1) / 2\n",
    "    samples2_ = CGAN.G(sample_z2, sample_y2).cpu().data.numpy().transpose(0, 2, 3, 1).reshape(-1, 28*28)\n",
    "    samples2_ = (samples2_ + 1) / 2\n",
    "    samples1[i * int(1e5):(i + 1) * int(1e5)] = samples1_\n",
    "    samples2[i * int(1e5):(i + 1) * int(1e5)] = samples2_\n",
    "    del sample_z1, sample_z2, sample_y1, sample_y2, samples1_, samples2_"
   ]
  },
  {
   "cell_type": "code",
   "execution_count": 9,
   "id": "fd9282c6",
   "metadata": {},
   "outputs": [
    {
     "data": {
      "text/plain": [
       "(1000000, 784)"
      ]
     },
     "execution_count": 9,
     "metadata": {},
     "output_type": "execute_result"
    }
   ],
   "source": [
    "samples1.shape"
   ]
  },
  {
   "cell_type": "code",
   "execution_count": 10,
   "id": "6677a1c8",
   "metadata": {},
   "outputs": [
    {
     "data": {
      "image/png": "[encoded data removed]",
      "text/plain": [
       "<Figure size 576x576 with 16 Axes>"
      ]
     },
     "metadata": {
      "needs_background": "light"
     },
     "output_type": "display_data"
    }
   ],
   "source": [
    "import matplotlib.pyplot as plt\n",
    "\n",
    "plt.figure(figsize=(8, 8))\n",
    "for i in range(16):\n",
    "    plt.subplot(4, 4, i + 1)\n",
    "    plt.imshow(samples1[i].reshape(28, 28), cmap=\"gray\")"
   ]
  },
  {
   "cell_type": "code",
   "execution_count": 11,
   "id": "54bdcb68",
   "metadata": {},
   "outputs": [],
   "source": [
    "mean1 = samples1.mean(axis=0, keepdims=True)\n",
    "mean2 = samples2.mean(axis=0, keepdims=True)\n",
    "\n",
    "samples1 = samples1 - mean1\n",
    "samples2 = samples2 - mean2"
   ]
  },
  {
   "cell_type": "code",
   "execution_count": 12,
   "id": "f99bcca1",
   "metadata": {},
   "outputs": [],
   "source": [
    "S1 = samples1.T @ samples1 / len(samples1)\n",
    "S2 = samples2.T @ samples2 / len(samples2)"
   ]
  },
  {
   "cell_type": "code",
   "execution_count": 13,
   "id": "3f42fbcb",
   "metadata": {},
   "outputs": [
    {
     "data": {
      "text/plain": [
       "(39.12295682122914, 24.005864282119823)"
      ]
     },
     "execution_count": 13,
     "metadata": {},
     "output_type": "execute_result"
    }
   ],
   "source": [
    "np.trace(S1), np.trace(S2)"
   ]
  },
  {
   "cell_type": "code",
   "execution_count": 14,
   "id": "b19ac57e",
   "metadata": {},
   "outputs": [],
   "source": [
    "trace_ratio = np.trace(S1) / np.trace(S2)\n",
    "\n",
    "samples2 = np.sqrt(trace_ratio) * samples2"
   ]
  },
  {
   "cell_type": "code",
   "execution_count": 15,
   "id": "1659aa03",
   "metadata": {},
   "outputs": [],
   "source": [
    "S1 = samples1.T @ samples1 / len(samples1)\n",
    "S2 = samples2.T @ samples2 / len(samples2)"
   ]
  },
  {
   "cell_type": "code",
   "execution_count": 16,
   "id": "94ba084b",
   "metadata": {},
   "outputs": [
    {
     "data": {
      "text/plain": [
       "(39.12295682122914, 39.12295682122914)"
      ]
     },
     "execution_count": 16,
     "metadata": {},
     "output_type": "execute_result"
    }
   ],
   "source": [
    "np.trace(S1), np.trace(S2)"
   ]
  },
  {
   "cell_type": "code",
   "execution_count": 17,
   "id": "db7abb52",
   "metadata": {},
   "outputs": [
    {
     "data": {
      "text/plain": [
       "39.12295682122914"
      ]
     },
     "execution_count": 17,
     "metadata": {},
     "output_type": "execute_result"
    }
   ],
   "source": [
    "normS = np.linalg.norm((S1 + S2) /2, ord=2)\n",
    "trS = np.trace((S1 + S2) / 2)\n",
    "\n",
    "trS"
   ]
  },
  {
   "cell_type": "code",
   "execution_count": 18,
   "id": "5ca7c020",
   "metadata": {},
   "outputs": [
    {
     "data": {
      "image/png": "[encoded data removed]",
      "text/plain": [
       "<Figure size 576x576 with 16 Axes>"
      ]
     },
     "metadata": {
      "needs_background": "light"
     },
     "output_type": "display_data"
    }
   ],
   "source": [
    "import matplotlib.pyplot as plt\n",
    "\n",
    "plt.figure(figsize=(8, 8))\n",
    "for i in range(16):\n",
    "    plt.subplot(4, 4, i + 1)\n",
    "    plt.imshow(samples2[i].reshape(28, 28), cmap=\"gray\")"
   ]
  },
  {
   "cell_type": "code",
   "execution_count": 19,
   "id": "5ee7d7e7",
   "metadata": {},
   "outputs": [],
   "source": [
    "import jax.numpy as jnp\n",
    "import jax\n",
    "import numpy as np\n",
    "\n",
    "from jax import config\n",
    "\n",
    "config.update(\"jax_enable_x64\", True)\n",
    "\n",
    "import matplotlib.pyplot as plt\n",
    "from tqdm.auto import tqdm"
   ]
  },
  {
   "cell_type": "code",
   "execution_count": 20,
   "id": "bf7be131",
   "metadata": {},
   "outputs": [
    {
     "data": {
      "text/plain": [
       "'gpu'"
      ]
     },
     "execution_count": 20,
     "metadata": {},
     "output_type": "execute_result"
    }
   ],
   "source": [
    "jax.default_backend()"
   ]
  },
  {
   "cell_type": "code",
   "execution_count": 21,
   "id": "a3b86270",
   "metadata": {},
   "outputs": [],
   "source": [
    "np.random.seed(0)"
   ]
  },
  {
   "cell_type": "code",
   "execution_count": 22,
   "id": "6c310e74",
   "metadata": {},
   "outputs": [],
   "source": [
    "def generate_gaussian_feature_matrix(n, k, tr):\n",
    "    return (1 / np.sqrt(tr)) * jnp.asarray(np.random.randn(k, n))"
   ]
  },
  {
   "cell_type": "code",
   "execution_count": 23,
   "id": "dd20352f",
   "metadata": {},
   "outputs": [],
   "source": [
    "def ReLU(z):\n",
    "    return jnp.maximum(z,0)\n",
    "\n",
    "def tanh(z):\n",
    "    return jnp.tanh(z)\n",
    "\n",
    "def sigmoid(z):\n",
    "    return 1 / (1 + jnp.exp(-z))\n",
    "\n",
    "def ReLU_prime(z):\n",
    "    return jnp.where(z > 0, 1, 0)\n",
    "\n",
    "def tanh_prime(z):\n",
    "    return 1 - jnp.tanh(z)**2\n",
    "\n",
    "def sigmoid_prime(z):\n",
    "    return sigmoid(z) * (1 - sigmoid(z))"
   ]
  },
  {
   "cell_type": "code",
   "execution_count": 24,
   "id": "3a9aab78",
   "metadata": {},
   "outputs": [],
   "source": [
    "def data_generator(m, theta_multiplier):\n",
    "    global mean1, mean2, trace_ratio, normS, trS, CGAN\n",
    "    if m / int(1e5) > 1:\n",
    "        if m % int(1e5) > 0:\n",
    "            ms = [int(1e5)] * int(m/int(1e5)) + [m % int(1e5)]\n",
    "        else:\n",
    "            ms = [int(1e5)] * int(m/int(1e5))\n",
    "    else:\n",
    "        ms = [m]\n",
    "    X1 = np.zeros((m//2, 28*28))\n",
    "    X2 = np.zeros((m//2, 28*28))\n",
    "    for i, m_val in enumerate(ms):\n",
    "        m1 = m_val // 2\n",
    "        m2 = m_val - m1\n",
    "        sample_y1 = torch.zeros(m1, CGAN.class_num).cuda()\n",
    "        sample_y1[:, 0] = 1\n",
    "        sample_z1 = torch.rand((m1, CGAN.z_dim)).cuda()\n",
    "        sample_y2 = torch.zeros(m2, CGAN.class_num).cuda()\n",
    "        sample_y2[:, 1] = 1\n",
    "        sample_z2 = torch.rand((m2, CGAN.z_dim)).cuda()\n",
    "        samples1_ = CGAN.G(sample_z1, sample_y1).cpu().data.numpy().transpose(0, 2, 3, 1).reshape(-1, 28*28)\n",
    "        samples1_ = (samples1_ + 1) / 2\n",
    "        samples2_ = CGAN.G(sample_z2, sample_y2).cpu().data.numpy().transpose(0, 2, 3, 1).reshape(-1, 28*28)\n",
    "        samples2_ = (samples2_ + 1) / 2\n",
    "        X1[i * int(5e4):(i + 1) * int(5e4)] = samples1_\n",
    "        X2[i * int(5e4):(i + 1) * int(5e4)] = samples2_\n",
    "        del sample_z1, sample_z2, sample_y1, sample_y2, samples1_, samples2_\n",
    "    X1 = (X1 - mean1.reshape(1, 28*28))\n",
    "    X2 = np.sqrt(trace_ratio) * (X2 - mean2.reshape(1, 28 * 28))\n",
    "    X1 = jnp.asarray(X1)\n",
    "    X2 = jnp.asarray(X2)\n",
    "    X = jnp.concatenate([X1, X2], axis=0)\n",
    "    X = np.sqrt(theta_multiplier / trS) * X + jnp.asarray(np.random.randn(*X.shape))\n",
    "    y = jnp.concatenate([jnp.ones((m//2, 1)), -jnp.ones((m//2, 1))], axis=0)\n",
    "    return X, y"
   ]
  },
  {
   "cell_type": "code",
   "execution_count": 25,
   "id": "874d3513",
   "metadata": {},
   "outputs": [],
   "source": [
    "def loss_calc(w, y, RF, lambd):\n",
    "    return (1 / 2) * jnp.mean((y-RF.T @ w)**2) + (lambd / 2) * (jnp.linalg.norm(w) ** 2)"
   ]
  },
  {
   "cell_type": "code",
   "execution_count": 26,
   "id": "64fd7528",
   "metadata": {},
   "outputs": [],
   "source": [
    "def least_square_estimator(y, RF, lambd):\n",
    "    k, m = RF.shape\n",
    "    w = jnp.linalg.solve(RF @ RF.T + lambd * m * jnp.eye(k), RF @ y)\n",
    "    return w"
   ]
  },
  {
   "cell_type": "code",
   "execution_count": 27,
   "id": "2e5734da",
   "metadata": {},
   "outputs": [],
   "source": [
    "n = 28*28\n",
    "m = 500\n",
    "lambd = 1e-4\n",
    "delta = 0\n",
    "NB_TRIALS = 20"
   ]
  },
  {
   "cell_type": "code",
   "execution_count": 28,
   "id": "6b532c13",
   "metadata": {},
   "outputs": [],
   "source": [
    "from numpy.polynomial.hermite_e import hermeval\n",
    "\n",
    "def Hermite(i, x):\n",
    "    return jnp.asarray(hermeval(np.asarray(x), [0] * i + [1]))\n",
    "\n",
    "def generate_Hermite_expansion(h, hs, b):\n",
    "    act_func = lambda x: jnp.asarray(hermeval(np.asarray(x)/b, np.asarray(h))) + hs * jnp.asarray(np.random.randn(*x.shape))\n",
    "    return act_func"
   ]
  },
  {
   "cell_type": "code",
   "execution_count": 29,
   "id": "ac3b59eb",
   "metadata": {},
   "outputs": [],
   "source": [
    "from scipy.special import roots_hermitenorm\n",
    "\n",
    "nodes, weights = roots_hermitenorm(100)\n",
    "nodes = jnp.asarray(nodes)\n",
    "weights = jnp.asarray(weights)\n",
    "\n",
    "def calculate_expectation(func):\n",
    "    # Expectation calculation with Gauss-Hermite quadrature\n",
    "    return jnp.dot(weights, func(nodes)) / np.sqrt(2 * np.pi)\n",
    "\n",
    "def calculate_h(activation, b):\n",
    "    h = np.zeros(11)\n",
    "    hs = np.zeros(11)\n",
    "    h_var = calculate_expectation(lambda z: activation(b * z) ** 2)\n",
    "    factorial = 1\n",
    "    for i in range(11):\n",
    "        h[i] = calculate_expectation(lambda z: Hermite(i, z) * activation(b * z))\n",
    "        h_var = h_var - (1 / factorial) * (h[i] ** 2)\n",
    "        h[i] = h[i] / factorial\n",
    "        hs[i] = jnp.sqrt(h_var)\n",
    "        factorial = factorial * (i + 1)\n",
    "    return h, hs"
   ]
  },
  {
   "cell_type": "code",
   "execution_count": 30,
   "id": "26d2d0a4",
   "metadata": {},
   "outputs": [],
   "source": [
    "import gc,sys\n",
    "\n",
    "def clear_caches():\n",
    "    for module_name, module in sys.modules.items():\n",
    "        if module_name.startswith(\"jax\"):\n",
    "            if module_name not in [\"jax.interpreters.partial_eval\"]:\n",
    "                for obj_name in dir(module):\n",
    "                    obj = getattr(module, obj_name)\n",
    "                    if hasattr(obj, \"cache_clear\"):\n",
    "                        try:\n",
    "                            obj.cache_clear()\n",
    "                        except:\n",
    "                            pass\n",
    "    gc.collect()"
   ]
  },
  {
   "cell_type": "code",
   "execution_count": 34,
   "id": "e8e411e3",
   "metadata": {},
   "outputs": [
    {
     "data": {
      "application/vnd.jupyter.widget-view+json": {
       "model_id": "6be88a9e411c492980e1de9a3f29b740",
       "version_major": 2,
       "version_minor": 0
      },
      "text/plain": [
       "  0%|          | 0/20 [00:00<?, ?it/s]"
      ]
     },
     "metadata": {},
     "output_type": "display_data"
    },
    {
     "data": {
      "application/vnd.jupyter.widget-view+json": {
       "model_id": "5b2dfc6e6f1148f1baef69c7012e0bc6",
       "version_major": 2,
       "version_minor": 0
      },
      "text/plain": [
       "  0%|          | 0/10 [00:00<?, ?it/s]"
      ]
     },
     "metadata": {},
     "output_type": "display_data"
    },
    {
     "data": {
      "application/vnd.jupyter.widget-view+json": {
       "model_id": "ac401aac94ce4c82919cc85a97569f90",
       "version_major": 2,
       "version_minor": 0
      },
      "text/plain": [
       "  0%|          | 0/10 [00:00<?, ?it/s]"
      ]
     },
     "metadata": {},
     "output_type": "display_data"
    },
    {
     "data": {
      "application/vnd.jupyter.widget-view+json": {
       "model_id": "b734fe5e01a5404a84ff30f1d33cd385",
       "version_major": 2,
       "version_minor": 0
      },
      "text/plain": [
       "  0%|          | 0/10 [00:00<?, ?it/s]"
      ]
     },
     "metadata": {},
     "output_type": "display_data"
    },
    {
     "data": {
      "application/vnd.jupyter.widget-view+json": {
       "model_id": "9ac495139263463fb6103a3e069a716c",
       "version_major": 2,
       "version_minor": 0
      },
      "text/plain": [
       "  0%|          | 0/10 [00:00<?, ?it/s]"
      ]
     },
     "metadata": {},
     "output_type": "display_data"
    },
    {
     "data": {
      "application/vnd.jupyter.widget-view+json": {
       "model_id": "3ca28700fcd7457ba69ec610f5c2e040",
       "version_major": 2,
       "version_minor": 0
      },
      "text/plain": [
       "  0%|          | 0/10 [00:00<?, ?it/s]"
      ]
     },
     "metadata": {},
     "output_type": "display_data"
    },
    {
     "data": {
      "application/vnd.jupyter.widget-view+json": {
       "model_id": "bcec84aede1647cebb20b07d1c06c629",
       "version_major": 2,
       "version_minor": 0
      },
      "text/plain": [
       "  0%|          | 0/10 [00:00<?, ?it/s]"
      ]
     },
     "metadata": {},
     "output_type": "display_data"
    },
    {
     "data": {
      "application/vnd.jupyter.widget-view+json": {
       "model_id": "ef39eab44460480698e1decfcb281565",
       "version_major": 2,
       "version_minor": 0
      },
      "text/plain": [
       "  0%|          | 0/10 [00:00<?, ?it/s]"
      ]
     },
     "metadata": {},
     "output_type": "display_data"
    },
    {
     "data": {
      "application/vnd.jupyter.widget-view+json": {
       "model_id": "5d98b45ccfe84db2b127ae7fdc279d65",
       "version_major": 2,
       "version_minor": 0
      },
      "text/plain": [
       "  0%|          | 0/10 [00:00<?, ?it/s]"
      ]
     },
     "metadata": {},
     "output_type": "display_data"
    },
    {
     "data": {
      "application/vnd.jupyter.widget-view+json": {
       "model_id": "88de4844bd4f4527be4be16fabe9b1fa",
       "version_major": 2,
       "version_minor": 0
      },
      "text/plain": [
       "  0%|          | 0/10 [00:00<?, ?it/s]"
      ]
     },
     "metadata": {},
     "output_type": "display_data"
    },
    {
     "data": {
      "application/vnd.jupyter.widget-view+json": {
       "model_id": "143656eec47f46e0930adc688d4f5b49",
       "version_major": 2,
       "version_minor": 0
      },
      "text/plain": [
       "  0%|          | 0/10 [00:00<?, ?it/s]"
      ]
     },
     "metadata": {},
     "output_type": "display_data"
    },
    {
     "data": {
      "application/vnd.jupyter.widget-view+json": {
       "model_id": "67ddedab589a46a6a1b542d82a03f7be",
       "version_major": 2,
       "version_minor": 0
      },
      "text/plain": [
       "  0%|          | 0/10 [00:00<?, ?it/s]"
      ]
     },
     "metadata": {},
     "output_type": "display_data"
    },
    {
     "data": {
      "application/vnd.jupyter.widget-view+json": {
       "model_id": "3948269133a6499b9ba08090e9703815",
       "version_major": 2,
       "version_minor": 0
      },
      "text/plain": [
       "  0%|          | 0/10 [00:00<?, ?it/s]"
      ]
     },
     "metadata": {},
     "output_type": "display_data"
    },
    {
     "data": {
      "application/vnd.jupyter.widget-view+json": {
       "model_id": "3bf63e885ed24daa8f711160fcb08baf",
       "version_major": 2,
       "version_minor": 0
      },
      "text/plain": [
       "  0%|          | 0/10 [00:00<?, ?it/s]"
      ]
     },
     "metadata": {},
     "output_type": "display_data"
    },
    {
     "data": {
      "application/vnd.jupyter.widget-view+json": {
       "model_id": "81304afd1c68416e9fd07402a94ded57",
       "version_major": 2,
       "version_minor": 0
      },
      "text/plain": [
       "  0%|          | 0/10 [00:00<?, ?it/s]"
      ]
     },
     "metadata": {},
     "output_type": "display_data"
    },
    {
     "data": {
      "application/vnd.jupyter.widget-view+json": {
       "model_id": "d7931a7a5fa348d49bf4598927f67fa3",
       "version_major": 2,
       "version_minor": 0
      },
      "text/plain": [
       "  0%|          | 0/10 [00:00<?, ?it/s]"
      ]
     },
     "metadata": {},
     "output_type": "display_data"
    },
    {
     "data": {
      "application/vnd.jupyter.widget-view+json": {
       "model_id": "b0668bfc73a946a3a27232596d36115a",
       "version_major": 2,
       "version_minor": 0
      },
      "text/plain": [
       "  0%|          | 0/10 [00:00<?, ?it/s]"
      ]
     },
     "metadata": {},
     "output_type": "display_data"
    },
    {
     "data": {
      "application/vnd.jupyter.widget-view+json": {
       "model_id": "01a12327452e4fb19b04734b0b832779",
       "version_major": 2,
       "version_minor": 0
      },
      "text/plain": [
       "  0%|          | 0/10 [00:00<?, ?it/s]"
      ]
     },
     "metadata": {},
     "output_type": "display_data"
    },
    {
     "data": {
      "application/vnd.jupyter.widget-view+json": {
       "model_id": "e982e2c178da4623ad5205ccc0e64942",
       "version_major": 2,
       "version_minor": 0
      },
      "text/plain": [
       "  0%|          | 0/10 [00:00<?, ?it/s]"
      ]
     },
     "metadata": {},
     "output_type": "display_data"
    },
    {
     "data": {
      "application/vnd.jupyter.widget-view+json": {
       "model_id": "6c185b20d2dd4b49910898bb13de9efd",
       "version_major": 2,
       "version_minor": 0
      },
      "text/plain": [
       "  0%|          | 0/10 [00:00<?, ?it/s]"
      ]
     },
     "metadata": {},
     "output_type": "display_data"
    },
    {
     "data": {
      "application/vnd.jupyter.widget-view+json": {
       "model_id": "27091587783f4ebfb513c207b1b15c4e",
       "version_major": 2,
       "version_minor": 0
      },
      "text/plain": [
       "  0%|          | 0/10 [00:00<?, ?it/s]"
      ]
     },
     "metadata": {},
     "output_type": "display_data"
    }
   ],
   "source": [
    "r = 1\n",
    "k = int(m * r)\n",
    "\n",
    "eta_vals = np.power(n, np.linspace(0, 1, 10))\n",
    "\n",
    "l = 6\n",
    "\n",
    "theta_multiplier = np.power(n, 1)\n",
    "\n",
    "dataF = data_generator(m, theta_multiplier)\n",
    "data = data_generator(m, theta_multiplier)\n",
    "data_new = data_generator(5*m, theta_multiplier)\n",
    "\n",
    "tr = n + theta_multiplier\n",
    "b = 1 #np.sqrt(n / tr)\n",
    "\n",
    "relu_h, relu_hs = calculate_h(ReLU, b)\n",
    "tanh_h, tanh_hs = calculate_h(tanh, b)\n",
    "sigmoid_h, sigmoid_hs = calculate_h(sigmoid, b)\n",
    "relu_hermite = generate_Hermite_expansion(relu_h[:l+1], relu_hs[l], b)\n",
    "tanh_hermite = generate_Hermite_expansion(tanh_h[:l+1], tanh_hs[l], b)\n",
    "sigmoid_hermite = generate_Hermite_expansion(sigmoid_h[:l+1], sigmoid_hs[l], b)\n",
    "\n",
    "relu_l_feature = np.zeros((len(eta_vals), NB_TRIALS))\n",
    "relu_gl_feature = np.zeros((len(eta_vals), NB_TRIALS))\n",
    "relu_l_hermite = np.zeros((len(eta_vals), NB_TRIALS))\n",
    "relu_gl_hermite = np.zeros((len(eta_vals), NB_TRIALS))\n",
    "\n",
    "tanh_l_feature = np.zeros((len(eta_vals), NB_TRIALS))\n",
    "tanh_gl_feature = np.zeros((len(eta_vals), NB_TRIALS))\n",
    "tanh_l_hermite = np.zeros((len(eta_vals), NB_TRIALS))\n",
    "tanh_gl_hermite = np.zeros((len(eta_vals), NB_TRIALS))\n",
    "\n",
    "sigmoid_l_feature = np.zeros((len(eta_vals), NB_TRIALS))\n",
    "sigmoid_gl_feature = np.zeros((len(eta_vals), NB_TRIALS))\n",
    "sigmoid_l_hermite = np.zeros((len(eta_vals), NB_TRIALS))\n",
    "sigmoid_gl_hermite = np.zeros((len(eta_vals), NB_TRIALS))\n",
    "\n",
    "\n",
    "def NN(w, F, dataF, data, data_new, activationF, activationF_derivative, activation, eta, lambd=lambd):\n",
    "    k, n = F.shape\n",
    "    X_tilde, y_tilde = dataF\n",
    "    m_tilde = X_tilde.shape[0]\n",
    "    FX_tilde = F @ X_tilde.T\n",
    "\n",
    "    G = (1 / m_tilde) * ( (1/np.sqrt(k)) * (w @ (y_tilde.T - (1/np.sqrt(k)) * w.T @ activationF(FX_tilde))) * activationF_derivative(FX_tilde)) @ X_tilde\n",
    "    F_hat = F + eta * G\n",
    "\n",
    "    X, y = data\n",
    "    X_new, y_new = data_new\n",
    "\n",
    "    features = activation(F_hat @ X.T) / np.sqrt(k)\n",
    "    features_new = activation(F_hat @ X_new.T) / np.sqrt(k)\n",
    "\n",
    "    w_hat = least_square_estimator(y, features, lambd)\n",
    "    loss_ = loss_calc(w_hat, y, features, lambd)\n",
    "    gloss_ = loss_calc(w_hat, y_new, features_new, 0)\n",
    "\n",
    "    return (loss_.item(), gloss_.item())\n",
    "\n",
    "for e in tqdm(range(NB_TRIALS)):\n",
    "    F = generate_gaussian_feature_matrix(n, k, tr)\n",
    "    w = jnp.asarray(np.random.randn(k, 1)) / np.sqrt(k)\n",
    "    for eta_i, eta in enumerate(tqdm(eta_vals)):\n",
    "        (\n",
    "            relu_l_feature[eta_i, e],\n",
    "            relu_gl_feature[eta_i, e],\n",
    "        ) = NN(\n",
    "            w,\n",
    "            F,\n",
    "            dataF,\n",
    "            data,\n",
    "            data_new,\n",
    "            ReLU,\n",
    "            ReLU_prime,\n",
    "            ReLU,\n",
    "            eta,\n",
    "            lambd=lambd\n",
    "        )\n",
    "\n",
    "        (\n",
    "            tanh_l_feature[eta_i, e],\n",
    "            tanh_gl_feature[eta_i, e],\n",
    "        ) = NN(\n",
    "            w,\n",
    "            F,\n",
    "            dataF,\n",
    "            data,\n",
    "            data_new,\n",
    "            tanh,\n",
    "            tanh_prime,\n",
    "            tanh,\n",
    "            eta,\n",
    "            lambd=lambd\n",
    "        )\n",
    "\n",
    "        (\n",
    "            sigmoid_l_feature[eta_i, e],\n",
    "            sigmoid_gl_feature[eta_i, e],\n",
    "        ) = NN(\n",
    "            w,\n",
    "            F,\n",
    "            dataF,\n",
    "            data,\n",
    "            data_new,\n",
    "            sigmoid,\n",
    "            sigmoid_prime,\n",
    "            sigmoid,\n",
    "            eta,\n",
    "            lambd=lambd,\n",
    "        )\n",
    "\n",
    "        (\n",
    "            relu_l_hermite[eta_i, e],\n",
    "            relu_gl_hermite[eta_i, e],\n",
    "        ) = NN(\n",
    "            w,\n",
    "            F,\n",
    "            dataF,\n",
    "            data,\n",
    "            data_new,\n",
    "            ReLU,\n",
    "            ReLU_prime,\n",
    "            relu_hermite,\n",
    "            eta,\n",
    "            lambd=lambd\n",
    "        )\n",
    "\n",
    "        (\n",
    "            tanh_l_hermite[eta_i, e],\n",
    "            tanh_gl_hermite[eta_i, e],\n",
    "        ) = NN(\n",
    "            w,\n",
    "            F,\n",
    "            dataF,\n",
    "            data,\n",
    "            data_new,\n",
    "            tanh,\n",
    "            tanh_prime,\n",
    "            tanh_hermite,\n",
    "            eta,\n",
    "            lambd=lambd\n",
    "        )\n",
    "\n",
    "        (\n",
    "            sigmoid_l_hermite[eta_i, e],\n",
    "            sigmoid_gl_hermite[eta_i, e],\n",
    "        ) = NN(\n",
    "            w,\n",
    "            F,\n",
    "            dataF,\n",
    "            data,\n",
    "            data_new,\n",
    "            sigmoid,\n",
    "            sigmoid_prime,\n",
    "            sigmoid_hermite,\n",
    "            eta,\n",
    "            lambd=lambd,\n",
    "        )\n",
    "\n",
    "        clear_caches()"
   ]
  },
  {
   "cell_type": "code",
   "execution_count": 35,
   "id": "1e30831d",
   "metadata": {},
   "outputs": [],
   "source": [
    "import matplotlib as mpl\n",
    "\n",
    "mpl.rcParams.update(mpl.rcParamsDefault)\n",
    "\n",
    "plt.style.use([\"science\", \"bright\"])\n",
    "plt.rcParams.update(\n",
    "    {\n",
    "        \"font.family\": \"serif\",\n",
    "        \"font.serif\": [\"Times\"],\n",
    "        \"font.size\": 10,\n",
    "        \"figure.dpi\": \"600\",\n",
    "    }\n",
    ")\n",
    "\n",
    "colors = [\"#0072B2\", \"#E69F00\", \"#CC79A7\"]"
   ]
  },
  {
   "cell_type": "code",
   "execution_count": 37,
   "id": "fb1d204c",
   "metadata": {},
   "outputs": [
    {
     "data": {
      "text/plain": [
       "(0.0, 1.0)"
      ]
     },
     "execution_count": 37,
     "metadata": {},
     "output_type": "execute_result"
    },
    {
     "data": {
      "image/png": "[encoded data removed]",
      "text/plain": [
       "<Figure size 2100x1575 with 1 Axes>"
      ]
     },
     "metadata": {},
     "output_type": "display_data"
    }
   ],
   "source": [
    "from matplotlib.legend_handler import HandlerTuple\n",
    "\n",
    "plt.figure()\n",
    "(relu_feature_gen,) = plt.plot(\n",
    "    np.log(eta_vals) / np.log(n),\n",
    "    np.mean(relu_gl_feature, axis=1),\n",
    "    color=colors[0],\n",
    "    linestyle=\"None\",\n",
    "    marker=\"o\",\n",
    "    markersize=5,\n",
    ")\n",
    "\n",
    "# (relu_hermite_gen,) = plt.plot(\n",
    "#     np.log(eta_vals) / np.log(n),\n",
    "#     np.mean(relu_gl_hermite, axis=1),\n",
    "#     color=colors[0],\n",
    "#     linestyle=\"solid\",\n",
    "#     linewidth=1.5,\n",
    "#     label=\"ReLU\",\n",
    "# )\n",
    "\n",
    "(tanh_feature_gen,) = plt.plot(\n",
    "    np.log(eta_vals) / np.log(n),\n",
    "    np.mean(tanh_gl_feature, axis=1),\n",
    "    color=colors[1],\n",
    "    linestyle=\"None\",\n",
    "    marker=\"o\",\n",
    "    markersize=5,\n",
    ")\n",
    "# (tanh_hermite_gen,) = plt.plot(\n",
    "#     np.log(eta_vals) / np.log(n),\n",
    "#     np.mean(tanh_gl_hermite, axis=1),\n",
    "#     color=colors[1],\n",
    "#     linestyle=\"dashed\",\n",
    "#     linewidth=1.5,\n",
    "#     label=\"tanh\",\n",
    "# )\n",
    "\n",
    "(sigmoid_feature_gen,) = plt.plot(\n",
    "    np.log(eta_vals) / np.log(n),\n",
    "    np.mean(sigmoid_gl_feature, axis=1),\n",
    "    color=colors[2],\n",
    "    linestyle=\"None\",\n",
    "    marker=\"o\",\n",
    "    markersize=5,\n",
    ")\n",
    "\n",
    "# (sigmoid_hermite_gen,) = plt.plot(\n",
    "#     np.log(eta_vals) / np.log(n),\n",
    "#     np.mean(sigmoid_gl_hermite, axis=1),\n",
    "#     color=colors[2],\n",
    "#     linestyle=\"dotted\",\n",
    "#     linewidth=1.5,\n",
    "#     label=\"sigmoid\",\n",
    "# )\n",
    "\n",
    "plt.xlabel(r\"$\\text{log}(\\eta) / \\text{log}(n)$\")\n",
    "plt.ylabel(r\"generalization error\")\n",
    "plt.ylim(0, 1)\n",
    "\n",
    "# legend1 = plt.legend(\n",
    "#     (relu_hermite_gen, tanh_hermite_gen, sigmoid_hermite_gen),\n",
    "#     [\"ReLU\", \"tanh\", \"Sigmoid\"],\n",
    "#     loc=1,\n",
    "#     handler_map={tuple: HandlerTuple(ndivide=None)},\n",
    "# )\n",
    "# legend2 = plt.legend(\n",
    "#     [\n",
    "#         (relu_feature_gen, tanh_feature_gen, sigmoid_feature_gen),\n",
    "#         (relu_hermite_gen, tanh_hermite_gen, sigmoid_hermite_gen),\n",
    "#     ],\n",
    "#     [\n",
    "#         \"Neural Network\",\n",
    "#         \"Hermite Model\",\n",
    "#     ],\n",
    "#     loc=2,\n",
    "#     handler_map={tuple: HandlerTuple(ndivide=None)},\n",
    "# )\n",
    "# plt.gca().add_artist(legend1)"
   ]
  },
  {
   "cell_type": "code",
   "execution_count": null,
   "id": "10465365",
   "metadata": {},
   "outputs": [],
   "source": []
  }
 ],
 "metadata": {
  "kernelspec": {
   "display_name": "Python 3 (ipykernel)",
   "language": "python",
   "name": "python3"
  }
 },
 "nbformat": 4,
 "nbformat_minor": 5
}
